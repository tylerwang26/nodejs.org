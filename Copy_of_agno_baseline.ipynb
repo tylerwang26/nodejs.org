{
  "cells": [
    {
      "cell_type": "markdown",
      "metadata": {
        "id": "view-in-github",
        "colab_type": "text"
      },
      "source": [
        "<a href=\"https://colab.research.google.com/github/tylerwang26/nodejs.org/blob/main/Copy_of_agno_baseline.ipynb\" target=\"_parent\"><img src=\"https://colab.research.google.com/assets/colab-badge.svg\" alt=\"Open In Colab\"/></a>"
      ]
    },
    {
      "cell_type": "markdown",
      "metadata": {
        "id": "dxS0rTAq5Ubm"
      },
      "source": [
        "[![Open In Colab](https://colab.research.google.com/assets/colab-badge.svg)](https://colab.research.google.com/github/0x-yuan/clintrial-nlp/blob/main/agno_baseline.ipynb)\n",
        "\n",
        "# 協作智能思考框架基線 - 臨床試驗 NLP\n",
        "\n",
        "## 概述\n",
        "\n",
        "本notebook展示如何使用簡單的協作思考模式進行臨床試驗自然語言推理(NLI)。我們模擬\"團隊協作\"概念，讓多個專業角色協同分析，最終達成共識。\n",
        "\n",
        "## 📚 學習目標\n",
        "- 理解協作思考的重要性\n",
        "- 建立專業角色協作模式\n",
        "- 實作團隊共識決策過程\n",
        "- 評估系統效能\n",
        "\n",
        "### 🤝 協作思考架構\n",
        "我們實作4個協作角色：\n",
        "1. **臨床研究主管**: 總體協調和醫學專業指導\n",
        "2. **資料科學家**: 統計分析和數據驗證\n",
        "3. **品質保證員**: 邏輯檢查和品質控制\n",
        "4. **決策委員會**: 整合所有意見並達成共識\n",
        "\n",
        "> 💡 **核心概念**: 每個角色都有獨特的專業視角，通過協作討論來提高決策品質。"
      ]
    },
    {
      "cell_type": "code",
      "execution_count": null,
      "metadata": {
        "id": "g9eKJgwv5Ubo",
        "outputId": "16215397-3c3b-4c1f-fdab-f442b2819c8d",
        "colab": {
          "base_uri": "https://localhost:8080/"
        }
      },
      "outputs": [
        {
          "output_type": "stream",
          "name": "stdout",
          "text": [
            "✅ 所有套件安裝完成！\n"
          ]
        }
      ],
      "source": [
        "# 🔧 環境設置 - 一鍵安裝所需套件\n",
        "!pip install -q google-generativeai python-dotenv pandas tqdm gdown\n",
        "\n",
        "print(\"✅ 所有套件安裝完成！\")"
      ]
    },
    {
      "cell_type": "code",
      "execution_count": null,
      "metadata": {
        "id": "Bu4sJrNs5Ubo",
        "outputId": "94fd4f1f-521e-411b-a720-57603125b7d9",
        "colab": {
          "base_uri": "https://localhost:8080/"
        }
      },
      "outputs": [
        {
          "output_type": "stream",
          "name": "stdout",
          "text": [
            "📥 從 Google Drive 下載 clinicaltrial-nlp.zip...\n"
          ]
        },
        {
          "output_type": "stream",
          "name": "stderr",
          "text": [
            "Downloading...\n",
            "From: https://drive.google.com/uc?id=15GA5XI39DDxQ5QkIZXsFbApx1yEvCpcR\n",
            "To: /content/clinicaltrial-nlp.zip\n",
            "100%|██████████| 5.47M/5.47M [00:00<00:00, 201MB/s]\n"
          ]
        },
        {
          "output_type": "stream",
          "name": "stdout",
          "text": [
            "📦 正在解壓縮檔案...\n",
            "✅ 訓練資料下載並解壓縮完成！\n",
            "📄 找到 999 個臨床試驗JSON檔案\n"
          ]
        }
      ],
      "source": [
        "# 📥 從 Google Drive 下載訓練資料\n",
        "import os\n",
        "import gdown\n",
        "import zipfile\n",
        "import shutil\n",
        "\n",
        "# Google Drive zip 檔案 ID\n",
        "file_id = \"15GA5XI39DDxQ5QkIZXsFbApx1yEvCpcR\"\n",
        "zip_url = f\"https://drive.google.com/uc?id={file_id}\"\n",
        "zip_filename = \"clinicaltrial-nlp.zip\"\n",
        "\n",
        "if not os.path.exists(\"training_data\"):\n",
        "    print(\"📥 從 Google Drive 下載 clinicaltrial-nlp.zip...\")\n",
        "    try:\n",
        "        gdown.download(zip_url, zip_filename, quiet=False)\n",
        "\n",
        "        print(\"📦 正在解壓縮檔案...\")\n",
        "        with zipfile.ZipFile(zip_filename, 'r') as zip_ref:\n",
        "            zip_ref.extractall(\".\")\n",
        "\n",
        "        if os.path.exists(\"clintrial-nlp/training_data\"):\n",
        "            shutil.move(\"clintrial-nlp/training_data\", \"training_data\")\n",
        "            if os.path.exists(\"clintrial-nlp\"):\n",
        "                shutil.rmtree(\"clintrial-nlp\")\n",
        "\n",
        "        os.remove(zip_filename)\n",
        "        print(\"✅ 訓練資料下載並解壓縮完成！\")\n",
        "\n",
        "    except Exception as e:\n",
        "        print(f\"❌ 下載失敗: {e}\")\n",
        "        print(\"請手動下載: https://drive.google.com/file/d/15GA5XI39DDxQ5QkIZXsFbApx1yEvCpcR/view\")\n",
        "else:\n",
        "    print(\"✅ 訓練資料已存在，跳過下載\")\n",
        "\n",
        "# 檢查下載的資料\n",
        "if os.path.exists(\"training_data/CT json\"):\n",
        "    ct_files = len([f for f in os.listdir(\"training_data/CT json\") if f.endswith('.json')])\n",
        "    print(f\"📄 找到 {ct_files} 個臨床試驗JSON檔案\")"
      ]
    },
    {
      "cell_type": "code",
      "execution_count": null,
      "metadata": {
        "id": "X5nqFBse5Ubp",
        "outputId": "035bdef9-9c49-4a37-a7bc-ea65cc67ff3e",
        "colab": {
          "base_uri": "https://localhost:8080/"
        }
      },
      "outputs": [
        {
          "output_type": "stream",
          "name": "stdout",
          "text": [
            "✅ 已創建測試資料集，包含 100 個樣本\n"
          ]
        }
      ],
      "source": [
        "# 🧪 準備測試資料集\n",
        "import json\n",
        "\n",
        "def create_test_data_if_needed():\n",
        "    if not os.path.exists(\"test.json\"):\n",
        "        try:\n",
        "            with open(\"training_data/train.json\", \"r\", encoding=\"utf-8\") as f:\n",
        "                train_data = json.load(f)\n",
        "            test_data = dict(list(train_data.items())[:100])\n",
        "            with open(\"test.json\", \"w\", encoding=\"utf-8\") as f:\n",
        "                json.dump(test_data, f, indent=2, ensure_ascii=False)\n",
        "            print(f\"✅ 已創建測試資料集，包含 {len(test_data)} 個樣本\")\n",
        "        except Exception as e:\n",
        "            print(f\"❌ 創建測試資料失敗: {e}\")\n",
        "    else:\n",
        "        print(\"✅ test.json 已存在\")\n",
        "\n",
        "create_test_data_if_needed()"
      ]
    },
    {
      "cell_type": "code",
      "execution_count": null,
      "metadata": {
        "id": "h1ZhQ2Mn5Ubp",
        "outputId": "b24fff45-4861-4b08-feec-684b3f58a22f",
        "colab": {
          "base_uri": "https://localhost:8080/"
        }
      },
      "outputs": [
        {
          "output_type": "stream",
          "name": "stdout",
          "text": [
            "✅ 環境變數載入完成\n"
          ]
        }
      ],
      "source": [
        "# 載入環境變數和必要函式庫\n",
        "from dotenv import load_dotenv\n",
        "import os\n",
        "import json\n",
        "import pandas as pd\n",
        "from tqdm import tqdm\n",
        "import google.generativeai as genai\n",
        "import time\n",
        "import warnings\n",
        "warnings.filterwarnings('ignore')\n",
        "\n",
        "load_dotenv()\n",
        "print(\"✅ 環境變數載入完成\")"
      ]
    },
    {
      "cell_type": "markdown",
      "metadata": {
        "id": "zPM0rv9Z5Ubp"
      },
      "source": [
        "## 模型配置\n",
        "\n",
        "配置Google Gemini模型進行推理："
      ]
    },
    {
      "cell_type": "code",
      "execution_count": null,
      "metadata": {
        "id": "q8dD4pDR5Ubp",
        "outputId": "297f3153-bbe9-4326-8463-c836728ad7b0",
        "colab": {
          "base_uri": "https://localhost:8080/",
          "height": 68
        }
      },
      "outputs": [
        {
          "output_type": "stream",
          "name": "stdout",
          "text": [
            "✅ 找到 API 金鑰: AIzaSyDr...-V-4\n",
            "✅ API 連接測試成功: API test successful...\n",
            "✅ Google Gemini模型配置完成\n"
          ]
        }
      ],
      "source": [
        "# 配置 Google Gemini 模型\n",
        "from google.colab import userdata\n",
        "api_key = os.getenv(\"GEMINI_API_KEY\") or userdata.get(\"GOOGLE_API_KEY\")\n",
        "\n",
        "if not api_key:\n",
        "    print(\"⚠️ 請設定 GOOGLE_API_KEY 環境變數\")\n",
        "    print(\"可以在 Colab 左側面板的 'Secrets' 中設定\")\n",
        "    raise ValueError(\"缺少 API 金鑰\")\n",
        "else:\n",
        "    print(f\"✅ 找到 API 金鑰: {api_key[:8]}...{api_key[-4:]}\")\n",
        "\n",
        "genai.configure(api_key=api_key)\n",
        "\n",
        "# 測試 API 連接\n",
        "try:\n",
        "    test_model = genai.GenerativeModel(\"gemini-2.5-flash\")\n",
        "    test_response = test_model.generate_content(\"Hello, respond with 'API test successful'\")\n",
        "    print(f\"✅ API 連接測試成功: {test_response.text[:50]}...\")\n",
        "except Exception as e:\n",
        "    print(f\"❌ API 連接測試失敗: {e}\")\n",
        "    raise\n",
        "\n",
        "# 創建 Gemini 模型實例\n",
        "model = genai.GenerativeModel(\n",
        "    model_name=\"gemini-2.5-flash\",\n",
        "    generation_config=genai.types.GenerationConfig(\n",
        "        temperature=0.1,\n",
        "        max_output_tokens=4096,\n",
        "        top_p=1,\n",
        "        top_k=1\n",
        "    )\n",
        ")\n",
        "\n",
        "print(f\"✅ Google Gemini模型配置完成\")"
      ]
    },
    {
      "cell_type": "markdown",
      "metadata": {
        "id": "M6IJLKxs5Ubp"
      },
      "source": [
        "## 資料工具函式\n",
        "\n",
        "建立用於載入和處理臨床試驗資料的工具函式："
      ]
    },
    {
      "cell_type": "code",
      "execution_count": null,
      "metadata": {
        "id": "WThdifpi5Ubp",
        "outputId": "d65f0689-a282-4c15-f917-e27d1fae9221",
        "colab": {
          "base_uri": "https://localhost:8080/"
        }
      },
      "outputs": [
        {
          "output_type": "stream",
          "name": "stdout",
          "text": [
            "✅ 資料工具函式準備就緒。範例試驗: NCT00066573\n"
          ]
        }
      ],
      "source": [
        "def load_clinical_trial(trial_id: str) -> dict:\n",
        "    \"\"\"載入臨床試驗資料\"\"\"\n",
        "    try:\n",
        "        file_path = os.path.join(\"training_data\", \"CT json\", f\"{trial_id}.json\")\n",
        "        with open(file_path, \"r\", encoding=\"utf-8\") as f:\n",
        "            data = json.load(f)\n",
        "        return data\n",
        "    except FileNotFoundError:\n",
        "        return {\"error\": f\"找不到臨床試驗 {trial_id}\"}\n",
        "    except Exception as e:\n",
        "        return {\"error\": f\"載入 {trial_id} 時發生錯誤: {str(e)}\"}\n",
        "\n",
        "def create_collaborative_context(trial_data: dict, focus_section: str = None) -> str:\n",
        "    \"\"\"創建協作討論的上下文\"\"\"\n",
        "    if \"error\" in trial_data:\n",
        "        return f\"錯誤: {trial_data['error']}\"\n",
        "\n",
        "    sections = {\n",
        "        \"Eligibility\": trial_data.get(\"Eligibility\", []),\n",
        "        \"Intervention\": trial_data.get(\"Intervention\", []),\n",
        "        \"Results\": trial_data.get(\"Results\", []),\n",
        "        \"Adverse Events\": trial_data.get(\"Adverse_Events\", [])\n",
        "    }\n",
        "\n",
        "    context = [f\"試驗編號: {trial_data.get('Clinical Trial ID', 'Unknown')}\"]\n",
        "    context.append(\"\\n=== 試驗資料摘要 ===\")\n",
        "\n",
        "    if focus_section and focus_section in sections:\n",
        "        section_data = sections[focus_section]\n",
        "        context.append(f\"\\n{focus_section} 重點資訊:\")\n",
        "        if isinstance(section_data, list):\n",
        "            for i, item in enumerate(section_data[:5]):\n",
        "                context.append(f\"  {i+1}. {item}\")\n",
        "            if len(section_data) > 5:\n",
        "                context.append(f\"  ... (另有 {len(section_data)-5} 項資訊)\")\n",
        "        else:\n",
        "            context.append(f\"  {section_data}\")\n",
        "    else:\n",
        "        for section_name, section_data in sections.items():\n",
        "            if section_data:\n",
        "                context.append(f\"\\n{section_name}:\")\n",
        "                if isinstance(section_data, list):\n",
        "                    for item in section_data[:2]:\n",
        "                        context.append(f\"  • {item}\")\n",
        "                    if len(section_data) > 2:\n",
        "                        context.append(f\"  • ... (共 {len(section_data)} 項)\")\n",
        "                else:\n",
        "                    context.append(f\"  • {section_data}\")\n",
        "\n",
        "    return \"\\n\".join(context)\n",
        "\n",
        "# 測試工具函式\n",
        "sample_trial = load_clinical_trial(\"NCT00066573\")\n",
        "print(f\"✅ 資料工具函式準備就緒。範例試驗: {sample_trial.get('Clinical Trial ID', '錯誤')}\")"
      ]
    },
    {
      "cell_type": "markdown",
      "metadata": {
        "id": "xpteMd1Z5Ubp"
      },
      "source": [
        "## 協作角色定義\n",
        "\n",
        "定義四個協作角色，每個角色都有特定的專業職責："
      ]
    },
    {
      "cell_type": "code",
      "execution_count": null,
      "metadata": {
        "id": "LNDnhs0B5Ubp",
        "outputId": "92ccd32f-4ae1-49b1-d3e9-cf3e4ba4b89b",
        "colab": {
          "base_uri": "https://localhost:8080/"
        }
      },
      "outputs": [
        {
          "output_type": "stream",
          "name": "stdout",
          "text": [
            "✅ 四個協作角色定義完成\n"
          ]
        }
      ],
      "source": [
        "def clinical_director_analysis(statement: str, trial_context: str) -> str:\n",
        "    \"\"\"臨床研究主管分析\"\"\"\n",
        "    prompt = f\"\"\"你是臨床研究主管，負責從整體醫學角度協調分析。你具有豐富的臨床試驗經驗。\n",
        "\n",
        "需要分析的陳述: \"{statement}\"\n",
        "\n",
        "試驗資料:\n",
        "{trial_context}\n",
        "\n",
        "作為臨床研究主管，請提供你的專業分析：\n",
        "1. 從醫學專業角度評估陳述的合理性\n",
        "2. 考慮臨床試驗的整體背景和設計\n",
        "3. 評估陳述與臨床實務的相符程度\n",
        "4. 提供初步的醫學判斷\n",
        "\n",
        "請提供簡潔的分析，最後以「主管意見: [支持/質疑/需要更多資訊]」結尾。\"\"\"\n",
        "\n",
        "    try:\n",
        "        response = model.generate_content(prompt)\n",
        "        return response.text\n",
        "    except Exception as e:\n",
        "        return f\"臨床主管分析錯誤: {str(e)}\"\n",
        "\n",
        "def data_scientist_analysis(statement: str, trial_context: str, director_input: str) -> str:\n",
        "    \"\"\"資料科學家分析\"\"\"\n",
        "    prompt = f\"\"\"你是資料科學家，專精統計分析和數據驗證。你將協助臨床研究主管進行技術分析。\n",
        "\n",
        "需要分析的陳述: \"{statement}\"\n",
        "\n",
        "試驗資料:\n",
        "{trial_context}\n",
        "\n",
        "臨床主管的意見:\n",
        "{director_input}\n",
        "\n",
        "作為資料科學家，請協作分析：\n",
        "1. 驗證陳述中涉及的數值和統計資訊\n",
        "2. 檢查計算的準確性和統計方法\n",
        "3. 評估數據解釋是否恰當\n",
        "4. 與主管的醫學觀點進行技術對照\n",
        "\n",
        "請提供技術分析，最後以「數據意見: [驗證通過/發現問題/數據不足]」結尾。\"\"\"\n",
        "\n",
        "    try:\n",
        "        response = model.generate_content(prompt)\n",
        "        return response.text\n",
        "    except Exception as e:\n",
        "        return f\"資料科學家分析錯誤: {str(e)}\"\n",
        "\n",
        "def quality_assurance_analysis(statement: str, director_input: str, data_input: str) -> str:\n",
        "    \"\"\"品質保證員分析\"\"\"\n",
        "    prompt = f\"\"\"你是品質保證員，負責邏輯檢查和品質控制。你將整合團隊的不同觀點。\n",
        "\n",
        "需要分析的陳述: \"{statement}\"\n",
        "\n",
        "臨床主管的意見:\n",
        "{director_input}\n",
        "\n",
        "資料科學家的意見:\n",
        "{data_input}\n",
        "\n",
        "作為品質保證員，請協作分析：\n",
        "1. 檢查陳述的邏輯一致性\n",
        "2. 驗證推理過程是否合理\n",
        "3. 評估團隊意見之間的一致性\n",
        "4. 識別可能的品質風險或矛盾\n",
        "\n",
        "請提供品質檢查結果，最後以「品質意見: [通過檢查/發現風險/需要澄清]」結尾。\"\"\"\n",
        "\n",
        "    try:\n",
        "        response = model.generate_content(prompt)\n",
        "        return response.text\n",
        "    except Exception as e:\n",
        "        return f\"品質保證分析錯誤: {str(e)}\"\n",
        "\n",
        "def decision_committee_consensus(statement: str, director_input: str, data_input: str, qa_input: str) -> str:\n",
        "    \"\"\"決策委員會共識\"\"\"\n",
        "    prompt = f\"\"\"你是決策委員會主席，負責整合所有團隊成員的專業意見，達成最終共識。\n",
        "\n",
        "需要決策的陳述: \"{statement}\"\n",
        "\n",
        "臨床研究主管意見:\n",
        "{director_input}\n",
        "\n",
        "資料科學家意見:\n",
        "{data_input}\n",
        "\n",
        "品質保證員意見:\n",
        "{qa_input}\n",
        "\n",
        "作為委員會主席，請協調所有意見並做出最終決策：\n",
        "1. 綜合評估各專業角度的意見\n",
        "2. 權衡不同觀點的重要性\n",
        "3. 識別關鍵的決策因素\n",
        "4. 達成團隊共識\n",
        "\n",
        "任務: 判斷陳述是「蘊含」(Entailment)還是「矛盾」(Contradiction)\n",
        "- 蘊含: 陳述被試驗證據支持\n",
        "- 矛盾: 陳述被試驗證據反駁\n",
        "\n",
        "請提供簡要的團隊共識理由，然後以「委員會決議: [Entailment/Contradiction]」結尾。\"\"\"\n",
        "\n",
        "    try:\n",
        "        response = model.generate_content(prompt)\n",
        "        return response.text\n",
        "    except Exception as e:\n",
        "        return f\"委員會決議錯誤: {str(e)}\"\n",
        "\n",
        "print(\"✅ 四個協作角色定義完成\")"
      ]
    },
    {
      "cell_type": "markdown",
      "metadata": {
        "id": "GVSX2rPT5Ubq"
      },
      "source": [
        "## 協作智能分析管道\n",
        "\n",
        "創建協調所有角色的團隊協作分析管道："
      ]
    },
    {
      "cell_type": "code",
      "execution_count": null,
      "metadata": {
        "id": "IvWSZ3Us5Ubq",
        "outputId": "1db383a8-8820-44ad-d8b0-1669198a987f",
        "colab": {
          "base_uri": "https://localhost:8080/"
        }
      },
      "outputs": [
        {
          "output_type": "stream",
          "name": "stdout",
          "text": [
            "✅ 協作智能分析管道準備就緒\n"
          ]
        }
      ],
      "source": [
        "def collaborative_intelligence_pipeline(statement: str, primary_id: str, secondary_id: str = None,\n",
        "                                       section_id: str = None, verbose: bool = False) -> str:\n",
        "    \"\"\"運行完整的協作智能分析管道\"\"\"\n",
        "\n",
        "    try:\n",
        "        # 準備協作上下文\n",
        "        primary_data = load_clinical_trial(primary_id)\n",
        "        trial_context = create_collaborative_context(primary_data, section_id)\n",
        "\n",
        "        if secondary_id:\n",
        "            secondary_data = load_clinical_trial(secondary_id)\n",
        "            secondary_context = create_collaborative_context(secondary_data, section_id)\n",
        "            trial_context += f\"\\n\\n=== 次要試驗資料 ===\\n{secondary_context}\"\n",
        "\n",
        "        if verbose:\n",
        "            print(f\"📄 協作分析陳述: {statement[:100]}...\")\n",
        "            print(f\"🏥 主要試驗: {primary_id}\")\n",
        "            if secondary_id:\n",
        "                print(f\"🏥 次要試驗: {secondary_id}\")\n",
        "\n",
        "        # 第一輪: 臨床研究主管分析\n",
        "        director_analysis = clinical_director_analysis(statement, trial_context)\n",
        "        if verbose:\n",
        "            print(\"👔 臨床研究主管: 完成初步分析\")\n",
        "\n",
        "        # 第二輪: 資料科學家協作分析\n",
        "        data_analysis = data_scientist_analysis(statement, trial_context, director_analysis)\n",
        "        if verbose:\n",
        "            print(\"📊 資料科學家: 完成技術驗證\")\n",
        "\n",
        "        # 第三輪: 品質保證員整合分析\n",
        "        qa_analysis = quality_assurance_analysis(statement, director_analysis, data_analysis)\n",
        "        if verbose:\n",
        "            print(\"🔍 品質保證員: 完成品質檢查\")\n",
        "\n",
        "        # 第四輪: 決策委員會達成共識\n",
        "        consensus_decision = decision_committee_consensus(\n",
        "            statement, director_analysis, data_analysis, qa_analysis\n",
        "        )\n",
        "\n",
        "        # 提取最終決策\n",
        "        if \"委員會決議: Entailment\" in consensus_decision:\n",
        "            decision = \"Entailment\"\n",
        "        elif \"委員會決議: Contradiction\" in consensus_decision:\n",
        "            decision = \"Contradiction\"\n",
        "        else:\n",
        "            # 備用解析\n",
        "            if \"entailment\" in consensus_decision.lower() and \"contradiction\" not in consensus_decision.lower():\n",
        "                decision = \"Entailment\"\n",
        "            else:\n",
        "                decision = \"Contradiction\"\n",
        "\n",
        "        if verbose:\n",
        "            print(f\"🤝 決策委員會: 達成共識 - {decision}\")\n",
        "            print(\"-\" * 50)\n",
        "\n",
        "        return decision\n",
        "\n",
        "    except Exception as e:\n",
        "        if verbose:\n",
        "            print(f\"❌ 協作管道錯誤: {e}\")\n",
        "        return \"Contradiction\"  # 保守的備用方案\n",
        "\n",
        "print(\"✅ 協作智能分析管道準備就緒\")"
      ]
    },
    {
      "cell_type": "markdown",
      "metadata": {
        "id": "1SHEOteU5Ubq"
      },
      "source": [
        "## 測試範例\n",
        "\n",
        "測試我們的協作智能系統："
      ]
    },
    {
      "cell_type": "code",
      "execution_count": null,
      "metadata": {
        "id": "I6AFVzo-5Ubq",
        "outputId": "9b674ce3-0b05-4e52-c14e-ec20b08a9d93",
        "colab": {
          "base_uri": "https://localhost:8080/",
          "height": 289
        }
      },
      "outputs": [
        {
          "output_type": "stream",
          "name": "stdout",
          "text": [
            "測試協作智能系統:\n",
            "陳述: 'there is a 13.2% difference between the results from the two the primary trial cohorts'\n",
            "主要試驗: NCT00066573\n",
            "\n",
            "================================================================================\n",
            "📄 協作分析陳述: there is a 13.2% difference between the results from the two the primary trial cohorts...\n",
            "🏥 主要試驗: NCT00066573\n",
            "👔 臨床研究主管: 完成初步分析\n",
            "📊 資料科學家: 完成技術驗證\n",
            "🔍 品質保證員: 完成品質檢查\n",
            "🤝 決策委員會: 達成共識 - Contradiction\n",
            "--------------------------------------------------\n",
            "\n",
            "🎯 協作智能結果: Contradiction\n",
            "⏱️ 執行時間: 71.24 秒\n",
            "================================================================================\n"
          ]
        }
      ],
      "source": [
        "# 測試範例\n",
        "test_statement = \"there is a 13.2% difference between the results from the two the primary trial cohorts\"\n",
        "test_primary_id = \"NCT00066573\"\n",
        "\n",
        "print(f\"測試協作智能系統:\")\n",
        "print(f\"陳述: '{test_statement}'\")\n",
        "print(f\"主要試驗: {test_primary_id}\")\n",
        "print(\"\\n\" + \"=\"*80)\n",
        "\n",
        "# 執行分析\n",
        "start_time = time.time()\n",
        "result = collaborative_intelligence_pipeline(\n",
        "    statement=test_statement,\n",
        "    primary_id=test_primary_id,\n",
        "    section_id=\"Results\",\n",
        "    verbose=True\n",
        ")\n",
        "end_time = time.time()\n",
        "\n",
        "print(f\"\\n🎯 協作智能結果: {result}\")\n",
        "print(f\"⏱️ 執行時間: {end_time - start_time:.2f} 秒\")\n",
        "print(\"=\"*80)"
      ]
    },
    {
      "cell_type": "markdown",
      "metadata": {
        "id": "nrx_UpBl5Ubq"
      },
      "source": [
        "## 在訓練資料上評估\n",
        "\n",
        "在訓練資料樣本上評估我們的系統："
      ]
    },
    {
      "cell_type": "code",
      "execution_count": null,
      "metadata": {
        "id": "v4dCHIYB5Ubq",
        "outputId": "3e7ac166-9de6-4fca-bc82-ac8708c9b164",
        "colab": {
          "base_uri": "https://localhost:8080/",
          "height": 374
        }
      },
      "outputs": [
        {
          "output_type": "stream",
          "name": "stdout",
          "text": [
            "載入 1700 個訓練範例\n",
            "\n",
            "在 12 個範例上評估協作智能系統...\n"
          ]
        },
        {
          "output_type": "stream",
          "name": "stderr",
          "text": [
            "協作智能處理:   8%|▊         | 1/12 [01:00<11:05, 60.52s/it]"
          ]
        },
        {
          "output_type": "stream",
          "name": "stdout",
          "text": [
            "範例  1: Contradiction -> Contradiction ✅ (60.5s)\n"
          ]
        },
        {
          "output_type": "stream",
          "name": "stderr",
          "text": [
            "\r協作智能處理:  17%|█▋        | 2/12 [02:15<11:30, 69.04s/it]"
          ]
        },
        {
          "output_type": "stream",
          "name": "stdout",
          "text": [
            "範例  2: Contradiction -> Contradiction ✅ (75.0s)\n"
          ]
        },
        {
          "output_type": "stream",
          "name": "stderr",
          "text": [
            "\r協作智能處理:  25%|██▌       | 3/12 [03:16<09:48, 65.40s/it]"
          ]
        },
        {
          "output_type": "stream",
          "name": "stdout",
          "text": [
            "範例  3: Entailment   -> Contradiction ❌ (61.1s)\n"
          ]
        },
        {
          "output_type": "stream",
          "name": "stderr",
          "text": [
            "\r協作智能處理:  33%|███▎      | 4/12 [04:21<08:41, 65.20s/it]"
          ]
        },
        {
          "output_type": "stream",
          "name": "stdout",
          "text": [
            "範例  4: Contradiction -> Contradiction ✅ (64.9s)\n"
          ]
        },
        {
          "output_type": "stream",
          "name": "stderr",
          "text": [
            "\r協作智能處理:  42%|████▏     | 5/12 [05:20<07:20, 62.97s/it]"
          ]
        },
        {
          "output_type": "stream",
          "name": "stdout",
          "text": [
            "範例  5: Contradiction -> Contradiction ✅ (59.0s)\n"
          ]
        },
        {
          "output_type": "stream",
          "name": "stderr",
          "text": [
            "\r協作智能處理:  50%|█████     | 6/12 [06:15<06:01, 60.28s/it]"
          ]
        },
        {
          "output_type": "stream",
          "name": "stdout",
          "text": [
            "範例  6: Contradiction -> Entailment   ❌ (55.1s)\n"
          ]
        },
        {
          "output_type": "stream",
          "name": "stderr",
          "text": [
            "\r協作智能處理:  58%|█████▊    | 7/12 [07:02<04:39, 55.87s/it]"
          ]
        },
        {
          "output_type": "stream",
          "name": "stdout",
          "text": [
            "範例  7: Contradiction -> Contradiction ✅ (46.8s)\n"
          ]
        },
        {
          "output_type": "stream",
          "name": "stderr",
          "text": [
            "\r協作智能處理:  67%|██████▋   | 8/12 [07:55<03:39, 54.93s/it]"
          ]
        },
        {
          "output_type": "stream",
          "name": "stdout",
          "text": [
            "範例  8: Contradiction -> Contradiction ✅ (52.9s)\n"
          ]
        },
        {
          "output_type": "stream",
          "name": "stderr",
          "text": [
            "\r協作智能處理:  75%|███████▌  | 9/12 [09:00<02:54, 58.00s/it]"
          ]
        },
        {
          "output_type": "stream",
          "name": "stdout",
          "text": [
            "範例  9: Entailment   -> Contradiction ❌ (64.8s)\n"
          ]
        },
        {
          "output_type": "stream",
          "name": "stderr",
          "text": [
            "\r協作智能處理:  83%|████████▎ | 10/12 [09:51<01:52, 56.03s/it]"
          ]
        },
        {
          "output_type": "stream",
          "name": "stdout",
          "text": [
            "範例 10: Contradiction -> Contradiction ✅ (51.6s)\n"
          ]
        },
        {
          "output_type": "stream",
          "name": "stderr",
          "text": [
            "\r協作智能處理:  92%|█████████▏| 11/12 [10:53<00:57, 57.83s/it]"
          ]
        },
        {
          "output_type": "stream",
          "name": "stdout",
          "text": [
            "範例 11: Entailment   -> Entailment   ✅ (61.9s)\n"
          ]
        },
        {
          "output_type": "stream",
          "name": "stderr",
          "text": [
            "協作智能處理: 100%|██████████| 12/12 [11:52<00:00, 59.35s/it]"
          ]
        },
        {
          "output_type": "stream",
          "name": "stdout",
          "text": [
            "範例 12: Entailment   -> Contradiction ❌ (58.7s)\n",
            "\n",
            "📊 協作智能系統結果:\n",
            "準確率: 66.67% (8/12)\n",
            "平均執行時間: 59.35 秒/例\n",
            "總執行時間: 712.22 秒\n"
          ]
        },
        {
          "output_type": "stream",
          "name": "stderr",
          "text": [
            "\n"
          ]
        }
      ],
      "source": [
        "# 載入訓練資料\n",
        "with open(\"training_data/train.json\", \"r\", encoding=\"utf-8\") as f:\n",
        "    train_data = json.load(f)\n",
        "print(f\"載入 {len(train_data)} 個訓練範例\")\n",
        "\n",
        "# 在樣本上評估\n",
        "sample_size = 12\n",
        "examples = list(train_data.items())[:sample_size]\n",
        "\n",
        "print(f\"\\n在 {len(examples)} 個範例上評估協作智能系統...\")\n",
        "\n",
        "results = []\n",
        "correct = 0\n",
        "total_time = 0\n",
        "\n",
        "for i, (uuid, example) in enumerate(tqdm(examples, desc=\"協作智能處理\")):\n",
        "    try:\n",
        "        statement = example.get(\"Statement\")\n",
        "        primary_id = example.get(\"Primary_id\")\n",
        "        secondary_id = example.get(\"Secondary_id\")\n",
        "        section_id = example.get(\"Section_id\")\n",
        "        expected = example.get(\"Label\")\n",
        "\n",
        "        if not statement or not primary_id:\n",
        "            results.append({\n",
        "                \"uuid\": uuid,\n",
        "                \"expected\": expected,\n",
        "                \"predicted\": \"SKIPPED\",\n",
        "                \"correct\": False,\n",
        "                \"time\": 0\n",
        "            })\n",
        "            continue\n",
        "\n",
        "        # 獲取預測\n",
        "        start_time = time.time()\n",
        "        predicted = collaborative_intelligence_pipeline(\n",
        "            statement=statement,\n",
        "            primary_id=primary_id,\n",
        "            secondary_id=secondary_id,\n",
        "            section_id=section_id,\n",
        "            verbose=False\n",
        "        )\n",
        "        end_time = time.time()\n",
        "\n",
        "        execution_time = end_time - start_time\n",
        "        total_time += execution_time\n",
        "\n",
        "        # 檢查正確性\n",
        "        is_correct = (predicted.strip() == expected.strip())\n",
        "        if is_correct:\n",
        "            correct += 1\n",
        "\n",
        "        results.append({\n",
        "            \"uuid\": uuid,\n",
        "            \"statement\": statement[:80] + \"...\" if len(statement) > 80 else statement,\n",
        "            \"expected\": expected,\n",
        "            \"predicted\": predicted,\n",
        "            \"correct\": is_correct,\n",
        "            \"time\": execution_time\n",
        "        })\n",
        "\n",
        "        status = \"✅\" if is_correct else \"❌\"\n",
        "        print(f\"範例 {i+1:2d}: {expected:12} -> {predicted:12} {status} ({execution_time:.1f}s)\")\n",
        "\n",
        "    except Exception as e:\n",
        "        print(f\"處理範例 {i+1} 時發生錯誤: {e}\")\n",
        "        results.append({\n",
        "            \"uuid\": uuid,\n",
        "            \"expected\": expected,\n",
        "            \"predicted\": \"ERROR\",\n",
        "            \"correct\": False,\n",
        "            \"time\": 0\n",
        "        })\n",
        "\n",
        "# 計算準確率\n",
        "accuracy = correct / len(examples) if examples else 0\n",
        "avg_time = total_time / len(examples) if examples else 0\n",
        "\n",
        "print(f\"\\n📊 協作智能系統結果:\")\n",
        "print(f\"準確率: {accuracy:.2%} ({correct}/{len(examples)})\")\n",
        "print(f\"平均執行時間: {avg_time:.2f} 秒/例\")\n",
        "print(f\"總執行時間: {total_time:.2f} 秒\")"
      ]
    },
    {
      "cell_type": "markdown",
      "metadata": {
        "id": "6Vx6O0Nw5Ubq"
      },
      "source": [
        "## 產生提交檔案\n",
        "\n",
        "使用我們的協作智能系統產生預測結果："
      ]
    },
    {
      "cell_type": "code",
      "execution_count": null,
      "metadata": {
        "id": "B4rxYDlD5Ubq",
        "outputId": "2fa51baa-4067-4fdf-81c0-032042d750d1",
        "colab": {
          "base_uri": "https://localhost:8080/",
          "height": 85
        }
      },
      "outputs": [
        {
          "output_type": "stream",
          "name": "stdout",
          "text": [
            "🚀 為 10 個範例產生協作智能預測...\n"
          ]
        },
        {
          "output_type": "stream",
          "name": "stderr",
          "text": [
            "協作智能處理: 100%|██████████| 10/10 [10:04<00:00, 60.49s/it]"
          ]
        },
        {
          "output_type": "stream",
          "name": "stdout",
          "text": [
            "✅ 協作智能提交檔案已儲存至 collaborative_intelligence_submission.json\n",
            "為 10 個範例產生了預測\n"
          ]
        },
        {
          "output_type": "stream",
          "name": "stderr",
          "text": [
            "\n"
          ]
        }
      ],
      "source": [
        "def generate_collaborative_submission(test_file=\"test.json\", output_file=\"collaborative_intelligence_submission.json\", sample_size=None):\n",
        "    \"\"\"使用協作智能系統產生提交檔案\"\"\"\n",
        "\n",
        "    # 載入測試資料\n",
        "    try:\n",
        "        with open(test_file, \"r\", encoding=\"utf-8\") as f:\n",
        "            test_data = json.load(f)\n",
        "    except:\n",
        "        print(f\"❌ 無法載入測試資料 {test_file}\")\n",
        "        return\n",
        "\n",
        "    examples = list(test_data.items())\n",
        "    if sample_size:\n",
        "        examples = examples[:sample_size]\n",
        "\n",
        "    print(f\"🚀 為 {len(examples)} 個範例產生協作智能預測...\")\n",
        "\n",
        "    submission = {}\n",
        "\n",
        "    for i, (uuid, example) in enumerate(tqdm(examples, desc=\"協作智能處理\")):\n",
        "        try:\n",
        "            statement = example.get(\"Statement\")\n",
        "            primary_id = example.get(\"Primary_id\")\n",
        "            secondary_id = example.get(\"Secondary_id\")\n",
        "            section_id = example.get(\"Section_id\")\n",
        "\n",
        "            if not statement or not primary_id:\n",
        "                submission[uuid] = {\"Prediction\": \"Contradiction\"}\n",
        "                continue\n",
        "\n",
        "            # 獲取預測\n",
        "            prediction = collaborative_intelligence_pipeline(\n",
        "                statement=statement,\n",
        "                primary_id=primary_id,\n",
        "                secondary_id=secondary_id,\n",
        "                section_id=section_id,\n",
        "                verbose=False\n",
        "            )\n",
        "\n",
        "            submission[uuid] = {\"Prediction\": prediction}\n",
        "\n",
        "        except Exception as e:\n",
        "            print(f\"處理 {uuid} 時發生錯誤: {e}\")\n",
        "            submission[uuid] = {\"Prediction\": \"Contradiction\"}\n",
        "\n",
        "    # 儲存提交檔案\n",
        "    with open(output_file, \"w\", encoding=\"utf-8\") as f:\n",
        "        json.dump(submission, f, indent=2)\n",
        "\n",
        "    print(f\"✅ 協作智能提交檔案已儲存至 {output_file}\")\n",
        "    return submission\n",
        "\n",
        "# 產生小樣本提交\n",
        "collaborative_submission = generate_collaborative_submission(\n",
        "    test_file=\"test.json\",\n",
        "    output_file=\"collaborative_intelligence_submission.json\",\n",
        "    sample_size=10\n",
        ")\n",
        "\n",
        "print(f\"為 {len(collaborative_submission)} 個範例產生了預測\")"
      ]
    },
    {
      "cell_type": "markdown",
      "metadata": {
        "id": "r-774Qmq5Ubq"
      },
      "source": [
        "## 結論\n",
        "\n",
        "### 協作智能系統優勢：\n",
        "1. **團隊協作**: 模擬真實的專業團隊決策過程\n",
        "2. **多重視角**: 從醫學、技術、品質等不同角度分析\n",
        "3. **共識決策**: 通過協商達成平衡的判斷\n",
        "4. **專業分工**: 每個角色都有明確的職責範圍\n",
        "5. **品質保證**: 內建的檢查和驗證機制\n",
        "\n",
        "### 四角色協作架構：\n",
        "- **臨床研究主管**: 提供醫學專業指導和整體協調\n",
        "- **資料科學家**: 進行技術驗證和統計分析\n",
        "- **品質保證員**: 執行邏輯檢查和品質控制\n",
        "- **決策委員會**: 整合所有意見並達成最終共識\n",
        "\n",
        "### 協作流程特色：\n",
        "- **順序協作**: 每個角色建立在前面的分析基礎上\n",
        "- **交叉驗證**: 不同專業視角的相互印證\n",
        "- **共識機制**: 最終決策反映團隊集體智慧\n",
        "- **品質把關**: 多層次的檢查確保結果可靠性\n",
        "\n",
        "### 適用場景：\n",
        "- 需要多專業協作的複雜決策\n",
        "- 要求高可靠性的臨床分析\n",
        "- 團隊決策流程的模擬\n",
        "- 需要透明化決策過程的應用\n",
        "\n",
        "這個協作智能系統展示了如何通過模擬專業團隊的協作模式來提高臨床試驗NLP分析的品質和可靠性，每個角色都貢獻其專業優勢，最終達成團隊共識。"
      ]
    }
  ],
  "metadata": {
    "kernelspec": {
      "display_name": "Python 3",
      "language": "python",
      "name": "python3"
    },
    "language_info": {
      "codemirror_mode": {
        "name": "ipython",
        "version": 3
      },
      "file_extension": ".py",
      "mimetype": "text/x-python",
      "name": "python",
      "nbconvert_exporter": "python",
      "pygments_lexer": "ipython3",
      "version": "3.8.5"
    },
    "colab": {
      "provenance": [],
      "include_colab_link": true
    }
  },
  "nbformat": 4,
  "nbformat_minor": 0
}